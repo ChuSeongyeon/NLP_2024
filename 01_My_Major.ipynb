{
  "nbformat": 4,
  "nbformat_minor": 0,
  "metadata": {
    "colab": {
      "provenance": [],
      "include_colab_link": true
    },
    "kernelspec": {
      "name": "python3",
      "display_name": "Python 3"
    },
    "language_info": {
      "name": "python"
    }
  },
  "cells": [
    {
      "cell_type": "markdown",
      "metadata": {
        "id": "view-in-github",
        "colab_type": "text"
      },
      "source": [
        "<a href=\"https://colab.research.google.com/github/ChuSeongyeon/NLP_2024/blob/main/01_My_Major.ipynb\" target=\"_parent\"><img src=\"https://colab.research.google.com/assets/colab-badge.svg\" alt=\"Open In Colab\"/></a>"
      ]
    },
    {
      "cell_type": "markdown",
      "source": [
        "전공학과 소개하기"
      ],
      "metadata": {
        "id": "at69qB8u2oQ9"
      }
    },
    {
      "cell_type": "markdown",
      "source": [
        "# **⛪ 기독교학과**\n",
        "- 신학과 함께 현대 사회와 종교 간의 관계에 대해 배운다.\n",
        "- 21세기 글로벌 신학 인재를 양성하는 것을 목표로 한다.\n",
        "- 진로: 신학대 교수, 다문화 교사, 목사, 상담사 등\n",
        "- 더 자세한 정보는 [학과홈페이지](https://christian.hannam.ac.kr/) 참조"
      ],
      "metadata": {
        "id": "ysqQMw6bLZB1"
      }
    },
    {
      "cell_type": "markdown",
      "source": [],
      "metadata": {
        "id": "mTqJTsa8Lan7"
      }
    }
  ]
}